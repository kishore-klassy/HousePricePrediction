{
  "nbformat": 4,
  "nbformat_minor": 0,
  "metadata": {
    "colab": {
      "provenance": [],
      "authorship_tag": "ABX9TyMTIm9prOLErCZIpvhbHQvi",
      "include_colab_link": true
    },
    "kernelspec": {
      "name": "python3",
      "display_name": "Python 3"
    },
    "language_info": {
      "name": "python"
    }
  },
  "cells": [
    {
      "cell_type": "markdown",
      "metadata": {
        "id": "view-in-github",
        "colab_type": "text"
      },
      "source": [
        "<a href=\"https://colab.research.google.com/github/kishore-klassy/HousePricePrediction/blob/main/house_price_prediction.ipynb\" target=\"_parent\"><img src=\"https://colab.research.google.com/assets/colab-badge.svg\" alt=\"Open In Colab\"/></a>"
      ]
    },
    {
      "cell_type": "markdown",
      "source": [
        "HOUSE PRICE PREDICTION"
      ],
      "metadata": {
        "id": "SoFcxf_Y7UAC"
      }
    },
    {
      "cell_type": "markdown",
      "source": [
        "1. Import Necessary Libraries\n"
      ],
      "metadata": {
        "id": "q0coYH0o7YMC"
      }
    },
    {
      "cell_type": "code",
      "source": [
        "import pandas as pd\n",
        "import numpy as np\n",
        "import matplotlib.pyplot as plt\n",
        "import seaborn as sns\n",
        "\n",
        "# Machine Learning Libraries\n",
        "from sklearn.model_selection import train_test_split\n",
        "from sklearn.preprocessing import OneHotEncoder, StandardScaler, OrdinalEncoder\n",
        "from sklearn.linear_model import LinearRegression\n",
        "from sklearn.ensemble import RandomForestRegressor, GradientBoostingRegressor\n",
        "from xgboost import XGBRegressor\n",
        "from sklearn.pipeline import Pipeline\n",
        "from sklearn.metrics import r2_score, mean_absolute_error\n"
      ],
      "metadata": {
        "id": "tlD-x51-OeE3"
      },
      "execution_count": 59,
      "outputs": []
    },
    {
      "cell_type": "markdown",
      "source": [
        "2. Load and Explore the Dataset\n"
      ],
      "metadata": {
        "id": "ZlOYqvmv7SrZ"
      }
    },
    {
      "cell_type": "code",
      "source": [
        "# Load the dataset\n",
        "df = pd.read_csv(\"/content/house_prices.csv\")\n",
        "\n",
        "# Display first few rows of the dataset\n",
        "print(df.head())"
      ],
      "metadata": {
        "colab": {
          "base_uri": "https://localhost:8080/"
        },
        "id": "O8bHmlF6PY2u",
        "outputId": "5f0bc581-a022-4db2-84f4-ed471c2f6301"
      },
      "execution_count": 60,
      "outputs": [
        {
          "output_type": "stream",
          "name": "stdout",
          "text": [
            "   House Size (sqft)  Bedrooms     Location   Price\n",
            "0               3974         3  Countryside  256730\n",
            "1               1660         5  Countryside  970910\n",
            "2               2094         2     Downtown  484681\n",
            "3               1930         4       Suburb  249503\n",
            "4               1895         2  Countryside  754811\n"
          ]
        }
      ]
    },
    {
      "cell_type": "code",
      "source": [
        "# Get dataset information\n",
        "print(df.info())"
      ],
      "metadata": {
        "colab": {
          "base_uri": "https://localhost:8080/"
        },
        "id": "f2B7Qxdh7u3q",
        "outputId": "6ee7bed3-f448-42a9-d68d-f226200f1b02"
      },
      "execution_count": 61,
      "outputs": [
        {
          "output_type": "stream",
          "name": "stdout",
          "text": [
            "<class 'pandas.core.frame.DataFrame'>\n",
            "RangeIndex: 15 entries, 0 to 14\n",
            "Data columns (total 4 columns):\n",
            " #   Column             Non-Null Count  Dtype \n",
            "---  ------             --------------  ----- \n",
            " 0   House Size (sqft)  15 non-null     int64 \n",
            " 1   Bedrooms           15 non-null     int64 \n",
            " 2   Location           15 non-null     object\n",
            " 3   Price              15 non-null     int64 \n",
            "dtypes: int64(3), object(1)\n",
            "memory usage: 612.0+ bytes\n",
            "None\n"
          ]
        }
      ]
    },
    {
      "cell_type": "code",
      "source": [
        "# Display statistical summary\n",
        "print(df.describe())"
      ],
      "metadata": {
        "colab": {
          "base_uri": "https://localhost:8080/"
        },
        "id": "eiNivb4iPgyo",
        "outputId": "55f2d27d-6a20-45af-e671-1940a0558256"
      },
      "execution_count": 62,
      "outputs": [
        {
          "output_type": "stream",
          "name": "stdout",
          "text": [
            "       House Size (sqft)   Bedrooms          Price\n",
            "count          15.000000  15.000000      15.000000\n",
            "mean         2546.200000   3.066667  494671.866667\n",
            "std           976.990291   1.486447  245766.889568\n",
            "min          1130.000000   1.000000  165725.000000\n",
            "25%          1912.500000   2.000000  253116.500000\n",
            "50%          2282.000000   3.000000  484681.000000\n",
            "75%          3344.000000   4.000000  673781.000000\n",
            "max          3974.000000   5.000000  970910.000000\n"
          ]
        }
      ]
    },
    {
      "cell_type": "code",
      "source": [
        "# Check for missing values\n",
        "print(df.isnull().sum())"
      ],
      "metadata": {
        "colab": {
          "base_uri": "https://localhost:8080/"
        },
        "id": "vlBE_Fic8AFH",
        "outputId": "dafeb64f-f64c-4ad8-b1d2-6628f657ddab"
      },
      "execution_count": 63,
      "outputs": [
        {
          "output_type": "stream",
          "name": "stdout",
          "text": [
            "House Size (sqft)    0\n",
            "Bedrooms             0\n",
            "Location             0\n",
            "Price                0\n",
            "dtype: int64\n"
          ]
        }
      ]
    },
    {
      "cell_type": "markdown",
      "source": [
        "3. Perform Exploratory Data Analysis (EDA)"
      ],
      "metadata": {
        "id": "Yahn3wDB8DjZ"
      }
    },
    {
      "cell_type": "code",
      "source": [
        "# Plot the distribution of house prices\n",
        "plt.figure(figsize=(8, 5))\n",
        "sns.histplot(df[\"Price\"], bins=10, kde=True)\n",
        "plt.title(\"Distribution of House Prices\")\n",
        "plt.xlabel(\"Price\")\n",
        "plt.ylabel(\"Frequency\")\n",
        "plt.show()"
      ],
      "metadata": {
        "colab": {
          "base_uri": "https://localhost:8080/",
          "height": 487
        },
        "id": "hEOvWBHu8AQc",
        "outputId": "40599665-cc5b-4c5b-91cb-904cc908d252"
      },
      "execution_count": 64,
      "outputs": [
        {
          "output_type": "display_data",
          "data": {
            "text/plain": [
              "<Figure size 800x500 with 1 Axes>"
            ],
            "image/png": "[encoded data removed]"
          },
          "metadata": {}
        }
      ]
    },
    {
      "cell_type": "code",
      "source": [
        "# Countplot for categorical feature (Location)\n",
        "plt.figure(figsize=(6, 4))\n",
        "sns.countplot(x=df[\"Location\"])\n",
        "plt.title(\"Distribution of Locations\")\n",
        "plt.xlabel(\"Location\")\n",
        "plt.ylabel(\"Count\")\n",
        "plt.show()"
      ],
      "metadata": {
        "colab": {
          "base_uri": "https://localhost:8080/",
          "height": 410
        },
        "id": "w36UmxFM90Wp",
        "outputId": "bb9fda5f-228b-4888-a57a-318d941bb01c"
      },
      "execution_count": 65,
      "outputs": [
        {
          "output_type": "display_data",
          "data": {
            "text/plain": [
              "<Figure size 600x400 with 1 Axes>"
            ],
            "image/png": "[encoded data removed]"
          },
          "metadata": {}
        }
      ]
    },
    {
      "cell_type": "markdown",
      "source": [
        "4. Data Preprocessing\n"
      ],
      "metadata": {
        "id": "vX76YRkv_j2C"
      }
    },
    {
      "cell_type": "code",
      "source": [
        "#FEARURE SCALING\n",
        "# Initialize Standard Scaler\n",
        "scaler = StandardScaler()\n",
        "\n",
        "# Scale numerical features\n",
        "df[['House Size (sqft)', 'Bedrooms']] = scaler.fit_transform(df[['House Size (sqft)', 'Bedrooms']])\n",
        "\n",
        "# Display first few rows after scaling\n",
        "print(df.head())\n"
      ],
      "metadata": {
        "colab": {
          "base_uri": "https://localhost:8080/"
        },
        "id": "AdlGx1tq_Zs_",
        "outputId": "89235165-acbd-488a-94cd-bf82bde95fdf"
      },
      "execution_count": 66,
      "outputs": [
        {
          "output_type": "stream",
          "name": "stdout",
          "text": [
            "   House Size (sqft)  Bedrooms     Location   Price\n",
            "0           1.512721 -0.046424  Countryside  256730\n",
            "1          -0.938908  1.346291  Countryside  970910\n",
            "2          -0.479095 -0.742781     Downtown  484681\n",
            "3          -0.652849  0.649934       Suburb  249503\n",
            "4          -0.689931 -0.742781  Countryside  754811\n"
          ]
        }
      ]
    },
    {
      "cell_type": "code",
      "source": [
        "# One-Hot Encoding for 'Location'\n",
        "encoder = OneHotEncoder(drop=\"first\", sparse_output=False)\n",
        "location_encoded = encoder.fit_transform(df[[\"Location\"]])\n",
        "location_df = pd.DataFrame(location_encoded, columns=encoder.get_feature_names_out([\"Location\"]))\n",
        "\n",
        "# Adding encoded features back to data\n",
        "df = pd.concat([df.drop(columns=[\"Location\"]), location_df], axis=1)"
      ],
      "metadata": {
        "id": "i8B5RgcX8qI-"
      },
      "execution_count": 67,
      "outputs": []
    },
    {
      "cell_type": "code",
      "source": [
        "#FEATURE ENGINEERING\n",
        "# Adding a new feature: Price per Square Foot\n",
        "df[\"Price_per_sqft\"] = df[\"Price\"] / df[\"House Size (sqft)\"]\n",
        "\n",
        "# Splitting into features (X) and target (y)\n",
        "X = df.drop(columns=[\"Price\"])\n",
        "y = df[\"Price\"]"
      ],
      "metadata": {
        "id": "nT9a2HTr8wbW"
      },
      "execution_count": 68,
      "outputs": []
    },
    {
      "cell_type": "code",
      "source": [
        "# Train-test split\n",
        "X_train, X_test, y_train, y_test = train_test_split(X, y, test_size=0.2, random_state=42)\n",
        "\n",
        "# Applying Polynomial Features for Non-Linearity\n",
        "poly = PolynomialFeatures(degree=2, include_bias=False)\n",
        "X_train_poly = poly.fit_transform(X_train)\n",
        "X_test_poly = poly.transform(X_test)\n",
        "\n",
        "# Feature Scaling\n",
        "scaler = StandardScaler()\n",
        "X_train_scaled = scaler.fit_transform(X_train_poly)\n",
        "X_test_scaled = scaler.transform(X_test_poly)"
      ],
      "metadata": {
        "id": "TngGp0-b9JQt"
      },
      "execution_count": 69,
      "outputs": []
    },
    {
      "cell_type": "markdown",
      "source": [
        "5.TRAIN AND EVALUATE MODELS"
      ],
      "metadata": {
        "id": "655kxK5wB0es"
      }
    },
    {
      "source": [
        "# Model Training with Hyperparameter Tuning\n",
        "models = {\n",
        "    \"Linear Regression\": LinearRegression(),\n",
        "    \"Random Forest\": RandomForestRegressor(n_estimators=200, max_depth=5, random_state=42),\n",
        "    \"Gradient Boosting\": GradientBoostingRegressor(n_estimators=200, learning_rate=0.05, max_depth=3, random_state=42),\n",
        "    \"XGBoost\": XGBRegressor(n_estimators=200, learning_rate=0.05, max_depth=3, random_state=42)\n",
        "}\n",
        "\n",
        "# Evaluating models\n",
        "results = {}\n",
        "for name, model in models.items():\n",
        "    model.fit(X_train_scaled, y_train)\n",
        "    y_pred = model.predict(X_test_scaled)\n",
        "    r2 = r2_score(y_test, y_pred)\n",
        "    mae = mean_absolute_error(y_test, y_pred)\n",
        "    results[name] = {\"R² Score\": r2, \"MAE\": mae}\n",
        "\n",
        "# Displaying results\n",
        "for model, metrics in results.items():\n",
        "    print(f\"{model}: R² Score = {metrics['R² Score']:.4f}, MAE = {metrics['MAE']:.2f}\")"
      ],
      "cell_type": "code",
      "metadata": {
        "colab": {
          "base_uri": "https://localhost:8080/"
        },
        "id": "5YIvY9VS4o4g",
        "outputId": "ca2c2e9c-8231-4dea-b7c6-1fa1a0ec177a"
      },
      "execution_count": 70,
      "outputs": [
        {
          "output_type": "stream",
          "name": "stdout",
          "text": [
            "Linear Regression: R² Score = 0.9963, MAE = 12279.27\n",
            "Random Forest: R² Score = 0.8874, MAE = 55199.70\n",
            "Gradient Boosting: R² Score = 0.7858, MAE = 77959.97\n",
            "XGBoost: R² Score = 0.7909, MAE = 72452.82\n"
          ]
        }
      ]
    }
  ]
}